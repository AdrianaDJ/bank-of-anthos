{
 "cells": [
  {
   "cell_type": "code",
   "execution_count": 1,
   "metadata": {},
   "outputs": [],
   "source": [
    "import matplotlib.pyplot as plt\n",
    "\n",
    "from google.cloud import automl_v1beta1 as automl"
   ]
  },
  {
   "cell_type": "markdown",
   "metadata": {},
   "source": [
    "Below, fill in the `project_id` and `model_display_name` variables with your project ID and the name of the AutoML model you trained."
   ]
  },
  {
   "cell_type": "code",
   "execution_count": 2,
   "metadata": {},
   "outputs": [],
   "source": [
    "project_id = \"your-gcp-project\"\n",
    "compute_region = \"us-central1\"\n",
    "model_display_name = \"your-automl-tables-model\" \n",
    "\n",
    "client = automl.TablesClient(project=project_id, region=compute_region)"
   ]
  },
  {
   "cell_type": "code",
   "execution_count": 3,
   "metadata": {},
   "outputs": [],
   "source": [
    "# Example test input\n",
    "inputs = {\n",
    "    \"Amount\": 0,\n",
    "    \"V1\": -0.46,\n",
    "    \"V2\": 3.99,\n",
    "    \"V3\": -.52,\n",
    "    \"V4\": -1.42,\n",
    "    \"V5\": -1.6,\n",
    "    \"V6\": -.035,\n",
    "    \"V7\": -0.011,\n",
    "    \"V8\": -4.53,\n",
    "    \"V9\": -0.595,\n",
    "    \"V10\": -2.77,\n",
    "    \"V11\": 1.39,\n",
    "    \"V12\": .389,\n",
    "    \"V13\": -1.14,\n",
    "    \"V14\": 0.517,\n",
    "    \"V15\": -2.89,\n",
    "    \"V16\": -.177,\n",
    "    \"V17\": -2.77,\n",
    "    \"V18\": .26,\n",
    "    \"V19\": -1.2,\n",
    "    \"V20\": .41,\n",
    "    \"V21\": -2.83,\n",
    "    \"V22\": 1.95,\n",
    "    \"V23\": 3.2,\n",
    "    \"V24\": -2.3,\n",
    "    \"Time\": 406,\n",
    "    \"V25\": -.14,\n",
    "    \"V26\": .32,\n",
    "    \"V27\": .0465,\n",
    "    \"V28\": 0.12\n",
    "}"
   ]
  },
  {
   "cell_type": "code",
   "execution_count": 4,
   "metadata": {},
   "outputs": [
    {
     "name": "stdout",
     "output_type": "stream",
     "text": [
      "Predicted class:  fraud 97.0 % confidence\n"
     ]
    },
    {
     "data": {
      "image/png": "[encoded data removed]",
      "text/plain": [
       "<Figure size 432x288 with 1 Axes>"
      ]
     },
     "metadata": {
      "needs_background": "light"
     },
     "output_type": "display_data"
    }
   ],
   "source": [
    "# Get an API response\n",
    "response = client.predict(\n",
    "    model_display_name=model_display_name,\n",
    "    inputs=inputs,\n",
    "    feature_importance=True,\n",
    ")\n",
    "\n",
    "class_lookup = {\n",
    "    \"0\": \"not fraud\",\n",
    "    \"1\": \"fraud\"\n",
    "}\n",
    "\n",
    "# Print results + feature attributions for each class\n",
    "predicted_class = response.payload[1].tables.value.string_value\n",
    "print(\"Predicted class: \",\n",
    "      class_lookup[predicted_class], \n",
    "      round(response.payload[1].tables.score, 2) * 100, \n",
    "      \"% confidence\")\n",
    "\n",
    "feat_list = [\n",
    "    (column.feature_importance, column.column_display_name)\n",
    "    for column in response.payload[1].tables.tables_model_column_info\n",
    "]\n",
    "feature_importance = {}\n",
    "\n",
    "for i in feat_list:\n",
    "    feature_importance[i[1]] = i[0]\n",
    "\n",
    "sorted_importance = {k: v for k, v in sorted(feature_importance.items(), key=lambda item: item[1], reverse=True)[:5]}\n",
    "\n",
    "fig, ax = plt.subplots()\n",
    "ax.barh(list(sorted_importance.keys()), sorted_importance.values())\n",
    "chart_title = \"Feature importance for \" + class_lookup[predicted_class] + \" prediction\"\n",
    "ax.set_title(chart_title)\n",
    "plt.show()"
   ]
  }
 ],
 "metadata": {
  "environment": {
   "name": "tf2-gpu.2-1.m50",
   "type": "gcloud",
   "uri": "gcr.io/deeplearning-platform-release/tf2-gpu.2-1:m50"
  },
  "kernelspec": {
   "display_name": "Python 3",
   "language": "python",
   "name": "python3"
  },
  "language_info": {
   "codemirror_mode": {
    "name": "ipython",
    "version": 3
   },
   "file_extension": ".py",
   "mimetype": "text/x-python",
   "name": "python",
   "nbconvert_exporter": "python",
   "pygments_lexer": "ipython3",
   "version": "3.7.6"
  }
 },
 "nbformat": 4,
 "nbformat_minor": 4
}