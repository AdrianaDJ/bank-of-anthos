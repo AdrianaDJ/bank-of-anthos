{
 "cells": [
  {
   "cell_type": "code",
   "execution_count": 140,
   "metadata": {},
   "outputs": [],
   "source": [
    "import pandas as pd\n",
    "import numpy as np\n",
    "\n",
    "from sklearn.utils import shuffle\n",
    "from sklearn.metrics import confusion_matrix\n",
    "from google.cloud import bigquery\n",
    "from google.cloud import storage\n",
    "\n",
    "import google.cloud.bigquery.magics\n",
    "google.cloud.bigquery.magics.context.use_bqstorage_api = True"
   ]
  },
  {
   "cell_type": "markdown",
   "metadata": {},
   "source": [
    "### Get label distribution of BigQuery table"
   ]
  },
  {
   "cell_type": "code",
   "execution_count": 141,
   "metadata": {},
   "outputs": [],
   "source": [
    "%%bigquery df\n",
    "SELECT Class as fraud, count(*) num_examples FROM `bigquery-public-data.ml_datasets.ulb_fraud_detection`\n",
    "GROUP BY 1"
   ]
  },
  {
   "cell_type": "code",
   "execution_count": 142,
   "metadata": {},
   "outputs": [
    {
     "data": {
      "text/html": [
       "<div>\n",
       "<style scoped>\n",
       "    .dataframe tbody tr th:only-of-type {\n",
       "        vertical-align: middle;\n",
       "    }\n",
       "\n",
       "    .dataframe tbody tr th {\n",
       "        vertical-align: top;\n",
       "    }\n",
       "\n",
       "    .dataframe thead th {\n",
       "        text-align: right;\n",
       "    }\n",
       "</style>\n",
       "<table border=\"1\" class=\"dataframe\">\n",
       "  <thead>\n",
       "    <tr style=\"text-align: right;\">\n",
       "      <th></th>\n",
       "      <th>fraud</th>\n",
       "      <th>num_examples</th>\n",
       "    </tr>\n",
       "  </thead>\n",
       "  <tbody>\n",
       "    <tr>\n",
       "      <th>0</th>\n",
       "      <td>0</td>\n",
       "      <td>284315</td>\n",
       "    </tr>\n",
       "    <tr>\n",
       "      <th>1</th>\n",
       "      <td>1</td>\n",
       "      <td>492</td>\n",
       "    </tr>\n",
       "  </tbody>\n",
       "</table>\n",
       "</div>"
      ],
      "text/plain": [
       "   fraud  num_examples\n",
       "0      0        284315\n",
       "1      1           492"
      ]
     },
     "execution_count": 142,
     "metadata": {},
     "output_type": "execute_result"
    }
   ],
   "source": [
    "df.head()"
   ]
  },
  {
   "cell_type": "code",
   "execution_count": 143,
   "metadata": {},
   "outputs": [
    {
     "data": {
      "text/plain": [
       "<matplotlib.axes._subplots.AxesSubplot at 0x7fd3c7096a90>"
      ]
     },
     "execution_count": 143,
     "metadata": {},
     "output_type": "execute_result"
    },
    {
     "data": {
      "image/png": "[encoded data removed]",
      "text/plain": [
       "<Figure size 432x288 with 1 Axes>"
      ]
     },
     "metadata": {
      "needs_background": "light"
     },
     "output_type": "display_data"
    }
   ],
   "source": [
    "df.plot(kind='bar')"
   ]
  },
  {
   "cell_type": "markdown",
   "metadata": {},
   "source": [
    "## Save fraud transactions to Pandas DataFrame"
   ]
  },
  {
   "cell_type": "code",
   "execution_count": 144,
   "metadata": {},
   "outputs": [],
   "source": [
    "%%bigquery fraud\n",
    "SELECT * FROM `bigquery-public-data.ml_datasets.ulb_fraud_detection`\n",
    "WHERE Class = 1"
   ]
  },
  {
   "cell_type": "markdown",
   "metadata": {},
   "source": [
    "### Use downsampling to get a random sample of fraudulent transactions from BQ data\n",
    "\n",
    "We're using the BigQuery Storage API, which speeds up our data download using distributed processing."
   ]
  },
  {
   "cell_type": "code",
   "execution_count": 146,
   "metadata": {},
   "outputs": [],
   "source": [
    "%%bigquery non_fraud --use_bqstorage_api\n",
    "SELECT * FROM (\n",
    "    SELECT \n",
    "        *,  \n",
    "        MOD(CAST(RAND()*100 AS INT64),100)=0 as rownum\n",
    "    FROM `bigquery-public-data.ml_datasets.ulb_fraud_detection`\n",
    "    WHERE Class = 0\n",
    ")\n",
    "WHERE rownum = True"
   ]
  },
  {
   "cell_type": "code",
   "execution_count": 147,
   "metadata": {},
   "outputs": [],
   "source": [
    "updated_data = pd.concat([fraud, non_fraud])\n",
    "updated_data = updated_data.drop(columns=['rownum'])"
   ]
  },
  {
   "cell_type": "code",
   "execution_count": 148,
   "metadata": {},
   "outputs": [
    {
     "data": {
      "text/html": [
       "<div>\n",
       "<style scoped>\n",
       "    .dataframe tbody tr th:only-of-type {\n",
       "        vertical-align: middle;\n",
       "    }\n",
       "\n",
       "    .dataframe tbody tr th {\n",
       "        vertical-align: top;\n",
       "    }\n",
       "\n",
       "    .dataframe thead th {\n",
       "        text-align: right;\n",
       "    }\n",
       "</style>\n",
       "<table border=\"1\" class=\"dataframe\">\n",
       "  <thead>\n",
       "    <tr style=\"text-align: right;\">\n",
       "      <th></th>\n",
       "      <th>Time</th>\n",
       "      <th>Amount</th>\n",
       "      <th>Class</th>\n",
       "      <th>temp_during_purchase</th>\n",
       "      <th>swipe_acceleration</th>\n",
       "      <th>cc_weight</th>\n",
       "      <th>cc_color</th>\n",
       "      <th>cc_material</th>\n",
       "      <th>cc_temp</th>\n",
       "      <th>num_backwards_swipes</th>\n",
       "      <th>...</th>\n",
       "      <th>sparks_joy_confidence</th>\n",
       "      <th>want_v_need_rating</th>\n",
       "      <th>rainfall_at_purchase</th>\n",
       "      <th>is_cake_confidence</th>\n",
       "      <th>cash_back_points</th>\n",
       "      <th>time_waiting_for_chip</th>\n",
       "      <th>treat_yourself</th>\n",
       "      <th>signature_color</th>\n",
       "      <th>signature_smudges</th>\n",
       "      <th>time_to_cc_expiry</th>\n",
       "    </tr>\n",
       "  </thead>\n",
       "  <tbody>\n",
       "    <tr>\n",
       "      <th>0</th>\n",
       "      <td>406.0</td>\n",
       "      <td>0.0</td>\n",
       "      <td>1</td>\n",
       "      <td>-2.312227</td>\n",
       "      <td>1.951992</td>\n",
       "      <td>-1.609851</td>\n",
       "      <td>3.997906</td>\n",
       "      <td>-0.522188</td>\n",
       "      <td>-1.426545</td>\n",
       "      <td>-2.537387</td>\n",
       "      <td>...</td>\n",
       "      <td>0.416956</td>\n",
       "      <td>0.126911</td>\n",
       "      <td>0.517232</td>\n",
       "      <td>-0.035049</td>\n",
       "      <td>-0.465211</td>\n",
       "      <td>0.320198</td>\n",
       "      <td>0.044519</td>\n",
       "      <td>0.177840</td>\n",
       "      <td>0.261145</td>\n",
       "      <td>-0.143276</td>\n",
       "    </tr>\n",
       "    <tr>\n",
       "      <th>1</th>\n",
       "      <td>12093.0</td>\n",
       "      <td>0.0</td>\n",
       "      <td>1</td>\n",
       "      <td>-4.696795</td>\n",
       "      <td>2.693867</td>\n",
       "      <td>-4.475133</td>\n",
       "      <td>5.467685</td>\n",
       "      <td>-1.556758</td>\n",
       "      <td>-1.549420</td>\n",
       "      <td>-4.104215</td>\n",
       "      <td>...</td>\n",
       "      <td>0.991486</td>\n",
       "      <td>-0.158971</td>\n",
       "      <td>0.573898</td>\n",
       "      <td>-0.080163</td>\n",
       "      <td>0.318408</td>\n",
       "      <td>-0.245862</td>\n",
       "      <td>0.338238</td>\n",
       "      <td>0.032271</td>\n",
       "      <td>-1.508458</td>\n",
       "      <td>0.608075</td>\n",
       "    </tr>\n",
       "    <tr>\n",
       "      <th>2</th>\n",
       "      <td>32686.0</td>\n",
       "      <td>0.0</td>\n",
       "      <td>1</td>\n",
       "      <td>0.287953</td>\n",
       "      <td>1.728735</td>\n",
       "      <td>-1.652173</td>\n",
       "      <td>3.813544</td>\n",
       "      <td>-1.090927</td>\n",
       "      <td>-0.984745</td>\n",
       "      <td>-2.202318</td>\n",
       "      <td>...</td>\n",
       "      <td>-0.902690</td>\n",
       "      <td>0.265250</td>\n",
       "      <td>0.262202</td>\n",
       "      <td>-0.633528</td>\n",
       "      <td>0.092891</td>\n",
       "      <td>0.187613</td>\n",
       "      <td>0.368708</td>\n",
       "      <td>-0.132474</td>\n",
       "      <td>0.576561</td>\n",
       "      <td>0.309843</td>\n",
       "    </tr>\n",
       "    <tr>\n",
       "      <th>3</th>\n",
       "      <td>41233.0</td>\n",
       "      <td>0.0</td>\n",
       "      <td>1</td>\n",
       "      <td>-10.645800</td>\n",
       "      <td>5.918307</td>\n",
       "      <td>-11.671043</td>\n",
       "      <td>8.807369</td>\n",
       "      <td>-7.975501</td>\n",
       "      <td>-3.586806</td>\n",
       "      <td>-13.616797</td>\n",
       "      <td>...</td>\n",
       "      <td>3.118480</td>\n",
       "      <td>-0.046170</td>\n",
       "      <td>2.571970</td>\n",
       "      <td>0.206809</td>\n",
       "      <td>-1.667801</td>\n",
       "      <td>0.558419</td>\n",
       "      <td>-0.027898</td>\n",
       "      <td>0.354254</td>\n",
       "      <td>0.273329</td>\n",
       "      <td>-0.152908</td>\n",
       "    </tr>\n",
       "    <tr>\n",
       "      <th>4</th>\n",
       "      <td>53658.0</td>\n",
       "      <td>0.0</td>\n",
       "      <td>1</td>\n",
       "      <td>-1.739341</td>\n",
       "      <td>1.344521</td>\n",
       "      <td>-0.534379</td>\n",
       "      <td>3.195291</td>\n",
       "      <td>-0.416196</td>\n",
       "      <td>-1.261961</td>\n",
       "      <td>-2.340991</td>\n",
       "      <td>...</td>\n",
       "      <td>-0.603726</td>\n",
       "      <td>0.002749</td>\n",
       "      <td>0.383180</td>\n",
       "      <td>-0.213952</td>\n",
       "      <td>-0.336640</td>\n",
       "      <td>0.237076</td>\n",
       "      <td>0.246003</td>\n",
       "      <td>-0.044228</td>\n",
       "      <td>0.510729</td>\n",
       "      <td>0.220952</td>\n",
       "    </tr>\n",
       "  </tbody>\n",
       "</table>\n",
       "<p>5 rows × 31 columns</p>\n",
       "</div>"
      ],
      "text/plain": [
       "      Time  Amount  Class  temp_during_purchase  swipe_acceleration  \\\n",
       "0    406.0     0.0      1             -2.312227            1.951992   \n",
       "1  12093.0     0.0      1             -4.696795            2.693867   \n",
       "2  32686.0     0.0      1              0.287953            1.728735   \n",
       "3  41233.0     0.0      1            -10.645800            5.918307   \n",
       "4  53658.0     0.0      1             -1.739341            1.344521   \n",
       "\n",
       "   cc_weight  cc_color  cc_material   cc_temp  num_backwards_swipes  ...  \\\n",
       "0  -1.609851  3.997906    -0.522188 -1.426545             -2.537387  ...   \n",
       "1  -4.475133  5.467685    -1.556758 -1.549420             -4.104215  ...   \n",
       "2  -1.652173  3.813544    -1.090927 -0.984745             -2.202318  ...   \n",
       "3 -11.671043  8.807369    -7.975501 -3.586806            -13.616797  ...   \n",
       "4  -0.534379  3.195291    -0.416196 -1.261961             -2.340991  ...   \n",
       "\n",
       "   sparks_joy_confidence  want_v_need_rating  rainfall_at_purchase  \\\n",
       "0               0.416956            0.126911              0.517232   \n",
       "1               0.991486           -0.158971              0.573898   \n",
       "2              -0.902690            0.265250              0.262202   \n",
       "3               3.118480           -0.046170              2.571970   \n",
       "4              -0.603726            0.002749              0.383180   \n",
       "\n",
       "   is_cake_confidence  cash_back_points  time_waiting_for_chip  \\\n",
       "0           -0.035049         -0.465211               0.320198   \n",
       "1           -0.080163          0.318408              -0.245862   \n",
       "2           -0.633528          0.092891               0.187613   \n",
       "3            0.206809         -1.667801               0.558419   \n",
       "4           -0.213952         -0.336640               0.237076   \n",
       "\n",
       "   treat_yourself  signature_color  signature_smudges  time_to_cc_expiry  \n",
       "0        0.044519         0.177840           0.261145          -0.143276  \n",
       "1        0.338238         0.032271          -1.508458           0.608075  \n",
       "2        0.368708        -0.132474           0.576561           0.309843  \n",
       "3       -0.027898         0.354254           0.273329          -0.152908  \n",
       "4        0.246003        -0.044228           0.510729           0.220952  \n",
       "\n",
       "[5 rows x 31 columns]"
      ]
     },
     "execution_count": 148,
     "metadata": {},
     "output_type": "execute_result"
    }
   ],
   "source": [
    "updated_data.head()"
   ]
  },
  {
   "cell_type": "code",
   "execution_count": 149,
   "metadata": {},
   "outputs": [
    {
     "data": {
      "text/plain": [
       "<matplotlib.axes._subplots.AxesSubplot at 0x7fd3c7a65850>"
      ]
     },
     "execution_count": 149,
     "metadata": {},
     "output_type": "execute_result"
    },
    {
     "data": {
      "image/png": "[encoded data removed]",
      "text/plain": [
       "<Figure size 432x288 with 1 Axes>"
      ]
     },
     "metadata": {
      "needs_background": "light"
     },
     "output_type": "display_data"
    }
   ],
   "source": [
    "# Plot the updated data distribution\n",
    "updated_data['Class'].value_counts().plot(kind='bar')"
   ]
  },
  {
   "cell_type": "markdown",
   "metadata": {},
   "source": [
    "### Write the updated data to a new BigQuery table\n",
    "\n",
    "Below, replace `dataset_name`, `table_name`, and `project_name` with the name of your Google Cloud dataset, table, and project respectively."
   ]
  },
  {
   "cell_type": "code",
   "execution_count": 150,
   "metadata": {},
   "outputs": [
    {
     "name": "stderr",
     "output_type": "stream",
     "text": [
      "1it [00:03,  3.98s/it]\n"
     ]
    }
   ],
   "source": [
    "updated_data.to_gbq(\n",
    "    \"dataset_name.table_name\", \n",
    "    \"project_name\", \n",
    "    if_exists='replace'\n",
    ")"
   ]
  }
 ],
 "metadata": {
  "environment": {
   "name": "tf2-gpu.2-1.m50",
   "type": "gcloud",
   "uri": "gcr.io/deeplearning-platform-release/tf2-gpu.2-1:m50"
  },
  "kernelspec": {
   "display_name": "Python 3",
   "language": "python",
   "name": "python3"
  },
  "language_info": {
   "codemirror_mode": {
    "name": "ipython",
    "version": 3
   },
   "file_extension": ".py",
   "mimetype": "text/x-python",
   "name": "python",
   "nbconvert_exporter": "python",
   "pygments_lexer": "ipython3",
   "version": "3.7.6"
  }
 },
 "nbformat": 4,
 "nbformat_minor": 4
}